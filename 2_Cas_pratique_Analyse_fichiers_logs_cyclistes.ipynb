{
  "nbformat": 4,
  "nbformat_minor": 0,
  "metadata": {
    "colab": {
      "provenance": [],
      "authorship_tag": "ABX9TyMN1Llzk3BQsy9aixI7Na7x",
      "include_colab_link": true
    },
    "kernelspec": {
      "name": "python3",
      "display_name": "Python 3"
    },
    "language_info": {
      "name": "python"
    }
  },
  "cells": [
    {
      "cell_type": "markdown",
      "metadata": {
        "id": "view-in-github",
        "colab_type": "text"
      },
      "source": [
        "<a href=\"https://colab.research.google.com/github/ocisse-jems/spark_bigdata/blob/main/2_Cas_pratique_Analyse_fichiers_logs_cyclistes.ipynb\" target=\"_parent\"><img src=\"https://colab.research.google.com/assets/colab-badge.svg\" alt=\"Open In Colab\"/></a>"
      ]
    },
    {
      "cell_type": "markdown",
      "source": [
        "# **Etude de cas : Analyse des fichiers de logs des Cyclistes**"
      ],
      "metadata": {
        "id": "ItBV0xFCqVY4"
      }
    },
    {
      "cell_type": "markdown",
      "source": [
        "**Objectifs** :\n",
        "- charger les données\n",
        "- nettoyage\n",
        "- calcul de la durée pour chaque trajet\n",
        "  - calcul pour chaque **timestamp** dans quel numéro de trajet se trouve le cycliste: est-il dans son 1er trajet, son 2ème trajet ?\n",
        "  - une fois le n° de trajet obtenu, calcul de la date minimale et maximale liée au trajet, et donc cacul d'un délai\n",
        "- transformer les **timestamps** en date pour rendre plus de réalisme\n",
        "- faire des courbes de durée de trajets"
      ],
      "metadata": {
        "id": "SPSXXU0DskRX"
      }
    },
    {
      "cell_type": "code",
      "execution_count": null,
      "metadata": {
        "id": "A3eb5nAhqLb6"
      },
      "outputs": [],
      "source": []
    }
  ]
}