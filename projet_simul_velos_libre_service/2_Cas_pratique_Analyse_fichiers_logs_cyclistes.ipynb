{
  "nbformat": 4,
  "nbformat_minor": 0,
  "metadata": {
    "colab": {
      "provenance": [],
      "authorship_tag": "ABX9TyMh1HlYdXYOs6rgzuDu5ewE",
      "include_colab_link": true
    },
    "kernelspec": {
      "name": "python3",
      "display_name": "Python 3"
    },
    "language_info": {
      "name": "python"
    }
  },
  "cells": [
    {
      "cell_type": "markdown",
      "metadata": {
        "id": "view-in-github",
        "colab_type": "text"
      },
      "source": [
        "<a href=\"https://colab.research.google.com/github/ocisse-jems/spark_bigdata/blob/main/projet_simul_velos_libre_service/2_Cas_pratique_Analyse_fichiers_logs_cyclistes.ipynb\" target=\"_parent\"><img src=\"https://colab.research.google.com/assets/colab-badge.svg\" alt=\"Open In Colab\"/></a>"
      ]
    },
    {
      "cell_type": "markdown",
      "source": [
        "# **Etude de cas : Analyse des fichiers de logs des Cyclistes**"
      ],
      "metadata": {
        "id": "ItBV0xFCqVY4"
      }
    },
    {
      "cell_type": "markdown",
      "source": [
        "**Objectifs** :\n",
        "- charger les données\n",
        "- nettoyage\n",
        "- calcul de la durée pour chaque trajet\n",
        "  - calcul pour chaque **timestamp** dans quel numéro de trajet se trouve le cycliste: est-il dans son 1er trajet, son 2ème trajet ?\n",
        "  - une fois le n° de trajet obtenu, calcul de la date minimale et maximale liée au trajet, et donc cacul d'un délai\n",
        "- faire des courbes de durée de trajets"
      ],
      "metadata": {
        "id": "SPSXXU0DskRX"
      }
    },
    {
      "cell_type": "code",
      "execution_count": 1,
      "metadata": {
        "id": "A3eb5nAhqLb6",
        "outputId": "d7036ff3-0e02-4386-acb5-caae24f6e763",
        "colab": {
          "base_uri": "https://localhost:8080/"
        }
      },
      "outputs": [
        {
          "output_type": "stream",
          "name": "stdout",
          "text": [
            "\u001b[K     |████████████████████████████████| 281.4 MB 54 kB/s \n",
            "\u001b[K     |████████████████████████████████| 199 kB 64.0 MB/s \n",
            "\u001b[?25h  Building wheel for pyspark (setup.py) ... \u001b[?25l\u001b[?25hdone\n"
          ]
        }
      ],
      "source": [
        "# install\n",
        "!pip install pyspark --quiet\n",
        "!pip install -U -q PyDrive --quiet \n",
        "!apt install openjdk-8-jdk-headless &> /dev/null"
      ]
    },
    {
      "cell_type": "code",
      "source": [
        "# SparkSession \n",
        "\n",
        "from pyspark.sql import SparkSession\n",
        "spark = SparkSession.builder.getOrCreate()"
      ],
      "metadata": {
        "id": "hp7spoZbkXLH"
      },
      "execution_count": 2,
      "outputs": []
    },
    {
      "cell_type": "code",
      "source": [
        "# access to drive for getting data\n",
        "\n",
        "from google.colab import drive\n",
        "drive.mount('/content/drive')"
      ],
      "metadata": {
        "id": "9aLkSG-FkXOG",
        "outputId": "b212a116-d4ed-4711-b9c0-59b80f97e219",
        "colab": {
          "base_uri": "https://localhost:8080/"
        }
      },
      "execution_count": 3,
      "outputs": [
        {
          "output_type": "stream",
          "name": "stdout",
          "text": [
            "Mounted at /content/drive\n"
          ]
        }
      ]
    },
    {
      "cell_type": "code",
      "source": [],
      "metadata": {
        "id": "iIMQGgVXlHg6"
      },
      "execution_count": null,
      "outputs": []
    },
    {
      "cell_type": "markdown",
      "source": [
        "## **charger la donnée**"
      ],
      "metadata": {
        "id": "8qN9cJ6FlMsk"
      }
    },
    {
      "cell_type": "code",
      "source": [
        "path = \"/content/drive/MyDrive/Spark/projet_simul_velos_libre_service/data/Cyclistes/*.csv\"\n",
        "\n",
        "all_cyclistes = spark.read.format(\"csv\").option(\"header\", \"true\").load(path, inferSchema=True)"
      ],
      "metadata": {
        "id": "_7nbCRX7lHm4"
      },
      "execution_count": 39,
      "outputs": []
    },
    {
      "cell_type": "code",
      "source": [
        "all_cyclistes.count()"
      ],
      "metadata": {
        "id": "vfHR_SWJlHol",
        "outputId": "627f2772-bcce-4bea-ad5b-7074c4b8e564",
        "colab": {
          "base_uri": "https://localhost:8080/"
        }
      },
      "execution_count": 40,
      "outputs": [
        {
          "output_type": "execute_result",
          "data": {
            "text/plain": [
              "4868396"
            ]
          },
          "metadata": {},
          "execution_count": 40
        }
      ]
    },
    {
      "cell_type": "code",
      "source": [
        "all_cyclistes.printSchema()"
      ],
      "metadata": {
        "id": "A0xnefNql1GO",
        "outputId": "9956f0a4-e250-4308-86f4-66a7904f06e1",
        "colab": {
          "base_uri": "https://localhost:8080/"
        }
      },
      "execution_count": 41,
      "outputs": [
        {
          "output_type": "stream",
          "name": "stdout",
          "text": [
            "root\n",
            " |-- id: integer (nullable = true)\n",
            " |-- timestamp: timestamp (nullable = true)\n",
            " |-- sur_velo: boolean (nullable = true)\n",
            " |-- velo: string (nullable = true)\n",
            " |-- vitesse: double (nullable = true)\n",
            " |-- position: string (nullable = true)\n",
            " |-- destination_finale: string (nullable = true)\n",
            "\n"
          ]
        }
      ]
    },
    {
      "cell_type": "markdown",
      "source": [
        "**constats**\n",
        "- le fichier est indexé par un **timestamp** (colonne qui nous donne l'heure interne à la simulation)\n",
        "- à chaque tour les cyclistes se deplacent d'une position et enregistrent le timestamps\n",
        "- les timestamps sont repetes autant de fois qu'il y a de cyclistes\n"
      ],
      "metadata": {
        "id": "YnLFtf0EmYEZ"
      }
    },
    {
      "cell_type": "markdown",
      "source": [
        "## **vérifier le nb de cycles**\n",
        "\n",
        "- on dedoublonne la colonne **timestamp**"
      ],
      "metadata": {
        "id": "cRUNe9beukPn"
      }
    },
    {
      "cell_type": "code",
      "source": [
        "all_cyclistes.select(\"timestamp\").drop_duplicates().count()"
      ],
      "metadata": {
        "id": "bsmevMXNtnFG",
        "outputId": "5994a5f9-dfd1-467a-fbc3-881a301e316a",
        "colab": {
          "base_uri": "https://localhost:8080/"
        }
      },
      "execution_count": 42,
      "outputs": [
        {
          "output_type": "execute_result",
          "data": {
            "text/plain": [
              "19396"
            ]
          },
          "metadata": {},
          "execution_count": 42
        }
      ]
    },
    {
      "cell_type": "code",
      "source": [
        "all_cyclistes.show(5)"
      ],
      "metadata": {
        "id": "kgPJ62jctnIN",
        "outputId": "c4521f5a-209d-4e8f-b65b-88813422105e",
        "colab": {
          "base_uri": "https://localhost:8080/"
        }
      },
      "execution_count": 43,
      "outputs": [
        {
          "output_type": "stream",
          "name": "stdout",
          "text": [
            "+---+-------------------+--------+-----+-------+--------------------+------------------+\n",
            "| id|          timestamp|sur_velo| velo|vitesse|            position|destination_finale|\n",
            "+---+-------------------+--------+-----+-------+--------------------+------------------+\n",
            "|246|2018-01-01 00:01:00|   false|False|   0.02|(lon:22.62 lat:9.63)|             False|\n",
            "|246|2018-01-01 00:02:00|   false|False|   0.02|(lon:22.62 lat:9.63)|             False|\n",
            "|246|2018-01-01 00:03:00|   false|False|   0.02|(lon:22.62 lat:9.63)|             False|\n",
            "|246|2018-01-01 00:04:00|   false|False|   0.02|(lon:22.62 lat:9.63)|             False|\n",
            "|246|2018-01-01 00:05:00|   false|False|   0.02|(lon:22.62 lat:9.63)|             False|\n",
            "+---+-------------------+--------+-----+-------+--------------------+------------------+\n",
            "only showing top 5 rows\n",
            "\n"
          ]
        }
      ]
    },
    {
      "cell_type": "code",
      "source": [],
      "metadata": {
        "id": "jgZWkAKvlHrC"
      },
      "execution_count": null,
      "outputs": []
    },
    {
      "cell_type": "code",
      "source": [],
      "metadata": {
        "id": "BAJSNJFh8qFn"
      },
      "execution_count": null,
      "outputs": []
    },
    {
      "cell_type": "code",
      "source": [],
      "metadata": {
        "id": "GDiukhoU8qIv"
      },
      "execution_count": null,
      "outputs": []
    },
    {
      "cell_type": "code",
      "source": [],
      "metadata": {
        "id": "KuHxGLwu8qMT"
      },
      "execution_count": null,
      "outputs": []
    },
    {
      "cell_type": "code",
      "source": [],
      "metadata": {
        "id": "X0mUQONB8qPY"
      },
      "execution_count": null,
      "outputs": []
    },
    {
      "cell_type": "code",
      "source": [],
      "metadata": {
        "id": "8AIEJbNb8qTe"
      },
      "execution_count": null,
      "outputs": []
    },
    {
      "cell_type": "code",
      "source": [],
      "metadata": {
        "id": "GYPfO-518qWh"
      },
      "execution_count": null,
      "outputs": []
    },
    {
      "cell_type": "code",
      "source": [],
      "metadata": {
        "id": "9nrPeNUc8qZL"
      },
      "execution_count": null,
      "outputs": []
    },
    {
      "cell_type": "code",
      "source": [],
      "metadata": {
        "id": "RxGma57YkXRB"
      },
      "execution_count": null,
      "outputs": []
    },
    {
      "cell_type": "code",
      "source": [],
      "metadata": {
        "id": "c4jyR3yGkXVP"
      },
      "execution_count": null,
      "outputs": []
    },
    {
      "cell_type": "code",
      "source": [],
      "metadata": {
        "id": "x-4mdXVUkXXj"
      },
      "execution_count": null,
      "outputs": []
    }
  ]
}