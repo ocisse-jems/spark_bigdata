{
  "nbformat": 4,
  "nbformat_minor": 0,
  "metadata": {
    "colab": {
      "provenance": [],
      "authorship_tag": "ABX9TyNCLXNqDrkhw98yKLTylTuP",
      "include_colab_link": true
    },
    "kernelspec": {
      "name": "python3",
      "display_name": "Python 3"
    },
    "language_info": {
      "name": "python"
    }
  },
  "cells": [
    {
      "cell_type": "markdown",
      "metadata": {
        "id": "view-in-github",
        "colab_type": "text"
      },
      "source": [
        "<a href=\"https://colab.research.google.com/github/ocisse-jems/spark_bigdata/blob/main/projet_simul_velos_libre_service/1_PySpark_chargement_manipulation_dataframe.ipynb\" target=\"_parent\"><img src=\"https://colab.research.google.com/assets/colab-badge.svg\" alt=\"Open In Colab\"/></a>"
      ]
    },
    {
      "cell_type": "markdown",
      "source": [
        "# **Chargement et Manipulation d'un dataframe avec PySpark**"
      ],
      "metadata": {
        "id": "8B_u5Y8z99bm"
      }
    },
    {
      "cell_type": "code",
      "source": [
        "# install\n",
        "!pip install pyspark --quiet\n",
        "!pip install -U -q PyDrive --quiet \n",
        "!apt install openjdk-8-jdk-headless &> /dev/null"
      ],
      "metadata": {
        "colab": {
          "base_uri": "https://localhost:8080/"
        },
        "id": "bLsbXlcGCyhh",
        "outputId": "38795ce0-edcf-465b-f83a-e5af97dfc43c"
      },
      "execution_count": 1,
      "outputs": [
        {
          "output_type": "stream",
          "name": "stdout",
          "text": [
            "\u001b[K     |████████████████████████████████| 281.4 MB 35 kB/s \n",
            "\u001b[K     |████████████████████████████████| 199 kB 46.7 MB/s \n",
            "\u001b[?25h  Building wheel for pyspark (setup.py) ... \u001b[?25l\u001b[?25hdone\n"
          ]
        }
      ]
    },
    {
      "cell_type": "code",
      "source": [
        "# java env\n",
        "\n",
        "import os\n",
        "os.environ[\"JAVA_HOME\"] = \"/usr/lib/jvm/java-8-openjdk-amd64\""
      ],
      "metadata": {
        "id": "BIX2Ae9sGe9v"
      },
      "execution_count": 2,
      "outputs": []
    },
    {
      "cell_type": "code",
      "execution_count": 3,
      "metadata": {
        "id": "P79a-7mm9tJB"
      },
      "outputs": [],
      "source": [
        "from pyspark.sql import SparkSession\n",
        "spark = SparkSession.builder.getOrCreate()"
      ]
    },
    {
      "cell_type": "markdown",
      "source": [
        "## **Lecture d'un fichier .csv**"
      ],
      "metadata": {
        "id": "4_VbVmCFC6TB"
      }
    },
    {
      "cell_type": "code",
      "source": [
        "path_csv = \"ville_1.csv\"\n",
        "ville = spark.read.format(\"csv\").option(\"header\", \"true\").load(path_csv)"
      ],
      "metadata": {
        "id": "KcFKzWcnCmUO"
      },
      "execution_count": 4,
      "outputs": []
    },
    {
      "cell_type": "markdown",
      "source": [
        "### 1ères lignes"
      ],
      "metadata": {
        "id": "ZivDPw_pHWvZ"
      }
    },
    {
      "cell_type": "code",
      "source": [
        "ville.show(3, vertical=True)"
      ],
      "metadata": {
        "id": "NhgOkOLxCmY2",
        "colab": {
          "base_uri": "https://localhost:8080/"
        },
        "outputId": "bc40359c-ec13-47a1-c9da-9a1081222eec"
      },
      "execution_count": 6,
      "outputs": [
        {
          "output_type": "stream",
          "name": "stdout",
          "text": [
            "-RECORD 0----------------------------------\n",
            " id                 | 5251                 \n",
            " vitesse_a_pied     | 0.02                 \n",
            " vitesse_a_velo     | 0.05                 \n",
            " home               | (lon:26.60 lat:28... \n",
            " travail            | (lon:21.08 lat:14... \n",
            " sportif            | False                \n",
            " casseur            | False                \n",
            " statut             | reserviste           \n",
            " salaire            | 29800.610034665042   \n",
            " sexe               | F                    \n",
            " age                | 18                   \n",
            " sportivite         | 0.1                  \n",
            " velo_perf_minimale | 0.4                  \n",
            "-RECORD 1----------------------------------\n",
            " id                 | 5252                 \n",
            " vitesse_a_pied     | 0.14974625830876215  \n",
            " vitesse_a_velo     | 0.37436564577190534  \n",
            " home               | (lon:0.26 lat:42.61) \n",
            " travail            | (lon:36.35 lat:33... \n",
            " sportif            | False                \n",
            " casseur            | False                \n",
            " statut             | professeur           \n",
            " salaire            | 23595.44383981423    \n",
            " sexe               | F                    \n",
            " age                | 28                   \n",
            " sportivite         | 0.7487312915438107   \n",
            " velo_perf_minimale | 0.4                  \n",
            "-RECORD 2----------------------------------\n",
            " id                 | 5253                 \n",
            " vitesse_a_pied     | 0.6309711587089704   \n",
            " vitesse_a_velo     | 1.6825897565572543   \n",
            " home               | (lon:3.34 lat:13.95) \n",
            " travail            | (lon:24.75 lat:48... \n",
            " sportif            | False                \n",
            " casseur            | False                \n",
            " statut             | technicien_de_sur... \n",
            " salaire            | 18530.14776280135    \n",
            " sexe               | H                    \n",
            " age                | 65                   \n",
            " sportivite         | 2.103237195696568    \n",
            " velo_perf_minimale | 0.4                  \n",
            "only showing top 3 rows\n",
            "\n"
          ]
        }
      ]
    },
    {
      "cell_type": "markdown",
      "source": [
        "## **Manipulations de base**"
      ],
      "metadata": {
        "id": "xa0hlWhAXtkD"
      }
    },
    {
      "cell_type": "markdown",
      "source": [
        "### types des colonnes : **dtypes**\n",
        "\n",
        "- types pouvant être précisés lors de la lecture\n",
        "- sinon, colonnes lues par défaut en type **string**"
      ],
      "metadata": {
        "id": "_qLeh_cRX7c7"
      }
    },
    {
      "cell_type": "code",
      "source": [
        "ville.dtypes"
      ],
      "metadata": {
        "id": "6lbUOxk5CmaR",
        "colab": {
          "base_uri": "https://localhost:8080/"
        },
        "outputId": "b6083ad0-d5c5-4dc7-e5a9-711f858321db"
      },
      "execution_count": 7,
      "outputs": [
        {
          "output_type": "execute_result",
          "data": {
            "text/plain": [
              "[('id', 'string'),\n",
              " ('vitesse_a_pied', 'string'),\n",
              " ('vitesse_a_velo', 'string'),\n",
              " ('home', 'string'),\n",
              " ('travail', 'string'),\n",
              " ('sportif', 'string'),\n",
              " ('casseur', 'string'),\n",
              " ('statut', 'string'),\n",
              " ('salaire', 'string'),\n",
              " ('sexe', 'string'),\n",
              " ('age', 'string'),\n",
              " ('sportivite', 'string'),\n",
              " ('velo_perf_minimale', 'string')]"
            ]
          },
          "metadata": {},
          "execution_count": 7
        }
      ]
    },
    {
      "cell_type": "markdown",
      "source": [
        "### nb de lignes : fontion **count**"
      ],
      "metadata": {
        "id": "45WH7O80YZjr"
      }
    },
    {
      "cell_type": "code",
      "source": [
        "ville.count()"
      ],
      "metadata": {
        "id": "j2f4sG98CmcB",
        "colab": {
          "base_uri": "https://localhost:8080/"
        },
        "outputId": "27657cf8-f92f-468f-f1b5-35f6673a8466"
      },
      "execution_count": 8,
      "outputs": [
        {
          "output_type": "execute_result",
          "data": {
            "text/plain": [
              "1083"
            ]
          },
          "metadata": {},
          "execution_count": 8
        }
      ]
    },
    {
      "cell_type": "code",
      "source": [
        "# nb distinct de lignes \n",
        "ville.distinct().count()"
      ],
      "metadata": {
        "id": "F3KW_JRVCmen",
        "colab": {
          "base_uri": "https://localhost:8080/"
        },
        "outputId": "c0dbbfe9-eb06-4356-c2bc-88f69b93cf85"
      },
      "execution_count": 9,
      "outputs": [
        {
          "output_type": "execute_result",
          "data": {
            "text/plain": [
              "1083"
            ]
          },
          "metadata": {},
          "execution_count": 9
        }
      ]
    },
    {
      "cell_type": "code",
      "source": [],
      "metadata": {
        "id": "yG3eByKRCmhU"
      },
      "execution_count": null,
      "outputs": []
    },
    {
      "cell_type": "code",
      "source": [],
      "metadata": {
        "id": "7In5Z6jSYtJS"
      },
      "execution_count": null,
      "outputs": []
    },
    {
      "cell_type": "code",
      "source": [],
      "metadata": {
        "id": "HYMqQzu4YtPL"
      },
      "execution_count": null,
      "outputs": []
    },
    {
      "cell_type": "code",
      "source": [],
      "metadata": {
        "id": "mp5RYXSZYtQf"
      },
      "execution_count": null,
      "outputs": []
    },
    {
      "cell_type": "code",
      "source": [],
      "metadata": {
        "id": "rzSz-UmZYtUR"
      },
      "execution_count": null,
      "outputs": []
    },
    {
      "cell_type": "code",
      "source": [],
      "metadata": {
        "id": "G7cywKjbYtV9"
      },
      "execution_count": null,
      "outputs": []
    },
    {
      "cell_type": "code",
      "source": [],
      "metadata": {
        "id": "JlCVfgtJCmjq"
      },
      "execution_count": null,
      "outputs": []
    }
  ]
}