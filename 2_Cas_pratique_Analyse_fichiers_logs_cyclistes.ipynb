{
  "nbformat": 4,
  "nbformat_minor": 0,
  "metadata": {
    "colab": {
      "provenance": [],
      "authorship_tag": "ABX9TyP/XrxWbv0iavvcDR6rT1Ea",
      "include_colab_link": true
    },
    "kernelspec": {
      "name": "python3",
      "display_name": "Python 3"
    },
    "language_info": {
      "name": "python"
    }
  },
  "cells": [
    {
      "cell_type": "markdown",
      "metadata": {
        "id": "view-in-github",
        "colab_type": "text"
      },
      "source": [
        "<a href=\"https://colab.research.google.com/github/ocisse-jems/spark_bigdata/blob/main/2_Cas_pratique_Analyse_fichiers_logs_cyclistes.ipynb\" target=\"_parent\"><img src=\"https://colab.research.google.com/assets/colab-badge.svg\" alt=\"Open In Colab\"/></a>"
      ]
    },
    {
      "cell_type": "markdown",
      "source": [
        "# **Etude de cas : Analyse des fichiers de logs des Cyclistes**"
      ],
      "metadata": {
        "id": "ItBV0xFCqVY4"
      }
    },
    {
      "cell_type": "code",
      "execution_count": null,
      "metadata": {
        "id": "A3eb5nAhqLb6"
      },
      "outputs": [],
      "source": []
    }
  ]
}