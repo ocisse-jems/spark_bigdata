{
  "nbformat": 4,
  "nbformat_minor": 0,
  "metadata": {
    "colab": {
      "provenance": [],
      "authorship_tag": "ABX9TyPygvZ1KiVdB/GngbNPinA4",
      "include_colab_link": true
    },
    "kernelspec": {
      "name": "python3",
      "display_name": "Python 3"
    },
    "language_info": {
      "name": "python"
    }
  },
  "cells": [
    {
      "cell_type": "markdown",
      "metadata": {
        "id": "view-in-github",
        "colab_type": "text"
      },
      "source": [
        "<a href=\"https://colab.research.google.com/github/ocisse-jems/spark_bigdata/blob/main/1_PySpark_chargement_manipulation_dataframe.ipynb\" target=\"_parent\"><img src=\"https://colab.research.google.com/assets/colab-badge.svg\" alt=\"Open In Colab\"/></a>"
      ]
    },
    {
      "cell_type": "markdown",
      "source": [
        "# **Chargement et Manipulation d'un dataframe avec PySpark**"
      ],
      "metadata": {
        "id": "8B_u5Y8z99bm"
      }
    },
    {
      "cell_type": "code",
      "source": [
        "# install\n",
        "!pip install pyspark --quiet\n",
        "!pip install -U -q PyDrive --quiet \n",
        "!apt install openjdk-8-jdk-headless &> /dev/null"
      ],
      "metadata": {
        "colab": {
          "base_uri": "https://localhost:8080/"
        },
        "id": "bLsbXlcGCyhh",
        "outputId": "6274a3ce-ca1c-48cc-8d8a-e52c82f97c75"
      },
      "execution_count": 3,
      "outputs": [
        {
          "output_type": "stream",
          "name": "stdout",
          "text": [
            "\u001b[K     |████████████████████████████████| 281.4 MB 50 kB/s \n",
            "\u001b[K     |████████████████████████████████| 199 kB 58.8 MB/s \n",
            "\u001b[?25h  Building wheel for pyspark (setup.py) ... \u001b[?25l\u001b[?25hdone\n"
          ]
        }
      ]
    },
    {
      "cell_type": "code",
      "source": [
        "# java env\n",
        "\n",
        "import os\n",
        "os.environ[\"JAVA_HOME\"] = \"/usr/lib/jvm/java-8-openjdk-amd64\""
      ],
      "metadata": {
        "id": "BIX2Ae9sGe9v"
      },
      "execution_count": 11,
      "outputs": []
    },
    {
      "cell_type": "code",
      "execution_count": 12,
      "metadata": {
        "id": "P79a-7mm9tJB"
      },
      "outputs": [],
      "source": [
        "from pyspark.sql import SparkSession\n",
        "spark = SparkSession.builder.getOrCreate()"
      ]
    },
    {
      "cell_type": "markdown",
      "source": [
        "## **Lecture d'un fichier .csv**"
      ],
      "metadata": {
        "id": "4_VbVmCFC6TB"
      }
    },
    {
      "cell_type": "code",
      "source": [
        "path_csv = \"ville_1.csv\"\n",
        "ville = spark.read.format(\"csv\").option(\"header\", \"true\").load(path_csv)"
      ],
      "metadata": {
        "id": "KcFKzWcnCmUO"
      },
      "execution_count": 17,
      "outputs": []
    },
    {
      "cell_type": "markdown",
      "source": [
        "### 1ères lignes"
      ],
      "metadata": {
        "id": "ZivDPw_pHWvZ"
      }
    },
    {
      "cell_type": "code",
      "source": [
        "ville.show(3, vertical=False)"
      ],
      "metadata": {
        "id": "NhgOkOLxCmY2",
        "colab": {
          "base_uri": "https://localhost:8080/"
        },
        "outputId": "fdc79951-12a8-4122-a749-69de1a510be1"
      },
      "execution_count": 18,
      "outputs": [
        {
          "output_type": "stream",
          "name": "stdout",
          "text": [
            "+----+-------------------+-------------------+--------------------+--------------------+-------+-------+--------------------+------------------+----+---+------------------+------------------+\n",
            "|  id|     vitesse_a_pied|     vitesse_a_velo|                home|             travail|sportif|casseur|              statut|           salaire|sexe|age|        sportivite|velo_perf_minimale|\n",
            "+----+-------------------+-------------------+--------------------+--------------------+-------+-------+--------------------+------------------+----+---+------------------+------------------+\n",
            "|5251|               0.02|               0.05|(lon:26.60 lat:28...|(lon:21.08 lat:14...|  False|  False|          reserviste|29800.610034665042|   F| 18|               0.1|               0.4|\n",
            "|5252|0.14974625830876215|0.37436564577190534|(lon:0.26 lat:42.61)|(lon:36.35 lat:33...|  False|  False|          professeur| 23595.44383981423|   F| 28|0.7487312915438107|               0.4|\n",
            "|5253| 0.6309711587089704| 1.6825897565572543|(lon:3.34 lat:13.95)|(lon:24.75 lat:48...|  False|  False|technicien_de_sur...| 18530.14776280135|   H| 65| 2.103237195696568|               0.4|\n",
            "+----+-------------------+-------------------+--------------------+--------------------+-------+-------+--------------------+------------------+----+---+------------------+------------------+\n",
            "only showing top 3 rows\n",
            "\n"
          ]
        }
      ]
    },
    {
      "cell_type": "code",
      "source": [],
      "metadata": {
        "id": "6lbUOxk5CmaR"
      },
      "execution_count": null,
      "outputs": []
    },
    {
      "cell_type": "code",
      "source": [],
      "metadata": {
        "id": "j2f4sG98CmcB"
      },
      "execution_count": null,
      "outputs": []
    },
    {
      "cell_type": "code",
      "source": [],
      "metadata": {
        "id": "F3KW_JRVCmen"
      },
      "execution_count": null,
      "outputs": []
    },
    {
      "cell_type": "code",
      "source": [],
      "metadata": {
        "id": "yG3eByKRCmhU"
      },
      "execution_count": null,
      "outputs": []
    },
    {
      "cell_type": "code",
      "source": [],
      "metadata": {
        "id": "JlCVfgtJCmjq"
      },
      "execution_count": null,
      "outputs": []
    }
  ]
}