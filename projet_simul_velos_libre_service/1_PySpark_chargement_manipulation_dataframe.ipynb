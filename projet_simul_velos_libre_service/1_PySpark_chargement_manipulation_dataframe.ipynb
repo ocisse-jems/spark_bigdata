{
  "nbformat": 4,
  "nbformat_minor": 0,
  "metadata": {
    "colab": {
      "provenance": [],
      "toc_visible": true,
      "authorship_tag": "ABX9TyNSYqakMNRnfi8b8lXTYZVo",
      "include_colab_link": true
    },
    "kernelspec": {
      "name": "python3",
      "display_name": "Python 3"
    },
    "language_info": {
      "name": "python"
    }
  },
  "cells": [
    {
      "cell_type": "markdown",
      "metadata": {
        "id": "view-in-github",
        "colab_type": "text"
      },
      "source": [
        "<a href=\"https://colab.research.google.com/github/ocisse-jems/spark_bigdata/blob/main/projet_simul_velos_libre_service/1_PySpark_chargement_manipulation_dataframe.ipynb\" target=\"_parent\"><img src=\"https://colab.research.google.com/assets/colab-badge.svg\" alt=\"Open In Colab\"/></a>"
      ]
    },
    {
      "cell_type": "markdown",
      "source": [
        "# **Chargement et Manipulation d'un dataframe avec PySpark**"
      ],
      "metadata": {
        "id": "8B_u5Y8z99bm"
      }
    },
    {
      "cell_type": "code",
      "source": [
        "# install\n",
        "!pip install pyspark --quiet\n",
        "!pip install -U -q PyDrive --quiet \n",
        "!apt install openjdk-8-jdk-headless &> /dev/null"
      ],
      "metadata": {
        "colab": {
          "base_uri": "https://localhost:8080/"
        },
        "id": "bLsbXlcGCyhh",
        "outputId": "2b7944e1-5719-4176-d0e9-15276073b2fa"
      },
      "execution_count": 1,
      "outputs": [
        {
          "output_type": "stream",
          "name": "stdout",
          "text": [
            "\u001b[K     |████████████████████████████████| 281.4 MB 31 kB/s \n",
            "\u001b[K     |████████████████████████████████| 199 kB 50.2 MB/s \n",
            "\u001b[?25h  Building wheel for pyspark (setup.py) ... \u001b[?25l\u001b[?25hdone\n"
          ]
        }
      ]
    },
    {
      "cell_type": "code",
      "source": [
        "# java env\n",
        "\n",
        "# import os\n",
        "# os.environ[\"JAVA_HOME\"] = \"/usr/lib/jvm/java-8-openjdk-amd64\""
      ],
      "metadata": {
        "id": "BIX2Ae9sGe9v"
      },
      "execution_count": 2,
      "outputs": []
    },
    {
      "cell_type": "code",
      "execution_count": 3,
      "metadata": {
        "id": "P79a-7mm9tJB"
      },
      "outputs": [],
      "source": [
        "# SparkSession \n",
        "\n",
        "from pyspark.sql import SparkSession\n",
        "spark = SparkSession.builder.getOrCreate()"
      ]
    },
    {
      "cell_type": "code",
      "source": [
        "# access to drive for getting data\n",
        "\n",
        "from google.colab import drive\n",
        "drive.mount('/content/drive')"
      ],
      "metadata": {
        "colab": {
          "base_uri": "https://localhost:8080/"
        },
        "id": "sXh7an4TdLLc",
        "outputId": "2d975090-ba0c-4507-c6f0-f920f8b073d3"
      },
      "execution_count": 4,
      "outputs": [
        {
          "output_type": "stream",
          "name": "stdout",
          "text": [
            "Mounted at /content/drive\n"
          ]
        }
      ]
    },
    {
      "cell_type": "markdown",
      "source": [
        "## **Lecture d'un fichier .csv**"
      ],
      "metadata": {
        "id": "4_VbVmCFC6TB"
      }
    },
    {
      "cell_type": "code",
      "source": [
        "path_csv = \"/content/drive/MyDrive/Spark/projet_simul_velos_libre_service/data/Villes/ville_1.csv\"\n",
        "ville = spark.read.format(\"csv\").option(\"header\", \"true\").load(path_csv)"
      ],
      "metadata": {
        "id": "KcFKzWcnCmUO"
      },
      "execution_count": 5,
      "outputs": []
    },
    {
      "cell_type": "markdown",
      "source": [
        "### 1ères lignes"
      ],
      "metadata": {
        "id": "ZivDPw_pHWvZ"
      }
    },
    {
      "cell_type": "code",
      "source": [
        "ville.show(3, vertical=True)"
      ],
      "metadata": {
        "id": "NhgOkOLxCmY2",
        "colab": {
          "base_uri": "https://localhost:8080/"
        },
        "outputId": "9456405e-e289-4190-bb29-c5e3e624182d"
      },
      "execution_count": 6,
      "outputs": [
        {
          "output_type": "stream",
          "name": "stdout",
          "text": [
            "-RECORD 0----------------------------------\n",
            " id                 | 5251                 \n",
            " vitesse_a_pied     | 0.02                 \n",
            " vitesse_a_velo     | 0.05                 \n",
            " home               | (lon:26.60 lat:28... \n",
            " travail            | (lon:21.08 lat:14... \n",
            " sportif            | False                \n",
            " casseur            | False                \n",
            " statut             | reserviste           \n",
            " salaire            | 29800.610034665042   \n",
            " sexe               | F                    \n",
            " age                | 18                   \n",
            " sportivite         | 0.1                  \n",
            " velo_perf_minimale | 0.4                  \n",
            "-RECORD 1----------------------------------\n",
            " id                 | 5252                 \n",
            " vitesse_a_pied     | 0.14974625830876215  \n",
            " vitesse_a_velo     | 0.37436564577190534  \n",
            " home               | (lon:0.26 lat:42.61) \n",
            " travail            | (lon:36.35 lat:33... \n",
            " sportif            | False                \n",
            " casseur            | False                \n",
            " statut             | professeur           \n",
            " salaire            | 23595.44383981423    \n",
            " sexe               | F                    \n",
            " age                | 28                   \n",
            " sportivite         | 0.7487312915438107   \n",
            " velo_perf_minimale | 0.4                  \n",
            "-RECORD 2----------------------------------\n",
            " id                 | 5253                 \n",
            " vitesse_a_pied     | 0.6309711587089704   \n",
            " vitesse_a_velo     | 1.6825897565572543   \n",
            " home               | (lon:3.34 lat:13.95) \n",
            " travail            | (lon:24.75 lat:48... \n",
            " sportif            | False                \n",
            " casseur            | False                \n",
            " statut             | technicien_de_sur... \n",
            " salaire            | 18530.14776280135    \n",
            " sexe               | H                    \n",
            " age                | 65                   \n",
            " sportivite         | 2.103237195696568    \n",
            " velo_perf_minimale | 0.4                  \n",
            "only showing top 3 rows\n",
            "\n"
          ]
        }
      ]
    },
    {
      "cell_type": "markdown",
      "source": [
        "## **Manipulations de base**"
      ],
      "metadata": {
        "id": "xa0hlWhAXtkD"
      }
    },
    {
      "cell_type": "markdown",
      "source": [
        "### types des colonnes : **dtypes**\n",
        "\n",
        "- types pouvant être précisés lors de la lecture\n",
        "- sinon, colonnes lues par défaut en type **string**"
      ],
      "metadata": {
        "id": "_qLeh_cRX7c7"
      }
    },
    {
      "cell_type": "code",
      "source": [
        "ville.dtypes"
      ],
      "metadata": {
        "id": "6lbUOxk5CmaR",
        "colab": {
          "base_uri": "https://localhost:8080/"
        },
        "outputId": "50bdcb42-3d88-43b2-82c4-4259f2a663c3"
      },
      "execution_count": 7,
      "outputs": [
        {
          "output_type": "execute_result",
          "data": {
            "text/plain": [
              "[('id', 'string'),\n",
              " ('vitesse_a_pied', 'string'),\n",
              " ('vitesse_a_velo', 'string'),\n",
              " ('home', 'string'),\n",
              " ('travail', 'string'),\n",
              " ('sportif', 'string'),\n",
              " ('casseur', 'string'),\n",
              " ('statut', 'string'),\n",
              " ('salaire', 'string'),\n",
              " ('sexe', 'string'),\n",
              " ('age', 'string'),\n",
              " ('sportivite', 'string'),\n",
              " ('velo_perf_minimale', 'string')]"
            ]
          },
          "metadata": {},
          "execution_count": 7
        }
      ]
    },
    {
      "cell_type": "markdown",
      "source": [
        "### nb de lignes : fonction **count**"
      ],
      "metadata": {
        "id": "45WH7O80YZjr"
      }
    },
    {
      "cell_type": "code",
      "source": [
        "ville.count()"
      ],
      "metadata": {
        "id": "j2f4sG98CmcB",
        "colab": {
          "base_uri": "https://localhost:8080/"
        },
        "outputId": "8e3e083a-b158-43d6-c3e8-d3ef3b0d838d"
      },
      "execution_count": 8,
      "outputs": [
        {
          "output_type": "execute_result",
          "data": {
            "text/plain": [
              "1083"
            ]
          },
          "metadata": {},
          "execution_count": 8
        }
      ]
    },
    {
      "cell_type": "code",
      "source": [
        "# nb distinct de lignes \n",
        "ville.distinct().count()"
      ],
      "metadata": {
        "id": "F3KW_JRVCmen",
        "colab": {
          "base_uri": "https://localhost:8080/"
        },
        "outputId": "100aea15-aabd-4d07-e03c-8898f22e99f7"
      },
      "execution_count": 14,
      "outputs": [
        {
          "output_type": "execute_result",
          "data": {
            "text/plain": [
              "1083"
            ]
          },
          "metadata": {},
          "execution_count": 14
        }
      ]
    },
    {
      "cell_type": "markdown",
      "source": [
        "### 1ère ligne du dataframe : fonction **first**\n",
        "- les DF st composées de RDD qui sont elles-memescomposees de rows\n",
        "- la focntion **first** retourne un objet de la classe **row**"
      ],
      "metadata": {
        "id": "CpkDc0PAIOFe"
      }
    },
    {
      "cell_type": "code",
      "source": [
        "ville.first()"
      ],
      "metadata": {
        "id": "yG3eByKRCmhU",
        "colab": {
          "base_uri": "https://localhost:8080/"
        },
        "outputId": "eb5dcee1-c0f3-4586-fac5-9deef169448d"
      },
      "execution_count": 9,
      "outputs": [
        {
          "output_type": "execute_result",
          "data": {
            "text/plain": [
              "Row(id='5251', vitesse_a_pied='0.02', vitesse_a_velo='0.05', home='(lon:26.60 lat:28.13)', travail='(lon:21.08 lat:14.11)', sportif='False', casseur='False', statut='reserviste', salaire='29800.610034665042', sexe='F', age='18', sportivite='0.1', velo_perf_minimale='0.4')"
            ]
          },
          "metadata": {},
          "execution_count": 9
        }
      ]
    },
    {
      "cell_type": "markdown",
      "source": [
        "### Filtrer sur une catégorie : **where**\n",
        "\n",
        "- pour filtrer le DF sur une condition "
      ],
      "metadata": {
        "id": "KiHfv9_AIbWv"
      }
    },
    {
      "cell_type": "code",
      "source": [
        "ville.where(ville.sexe == \"H\").count()"
      ],
      "metadata": {
        "colab": {
          "base_uri": "https://localhost:8080/"
        },
        "id": "7In5Z6jSYtJS",
        "outputId": "ffe1940a-44c3-478d-f714-c9960e8a71fe"
      },
      "execution_count": 10,
      "outputs": [
        {
          "output_type": "execute_result",
          "data": {
            "text/plain": [
              "560"
            ]
          },
          "metadata": {},
          "execution_count": 10
        }
      ]
    },
    {
      "cell_type": "markdown",
      "source": [
        "### compter par regroupement : **groupBy**\n",
        "\n",
        "- l'objet DF permet de simuler lefonctionement du **SQL**\n",
        "- on utilise la méthode **groupby** du DF\n",
        "- suivie de lamethode **count** pour construire le DAG\n",
        "- puis on applique l'action **collect** pour obtenir le resultat"
      ],
      "metadata": {
        "id": "91NNN383JWCC"
      }
    },
    {
      "cell_type": "code",
      "source": [
        "ville.groupBy(\"sexe\").count().collect()"
      ],
      "metadata": {
        "colab": {
          "base_uri": "https://localhost:8080/"
        },
        "id": "HYMqQzu4YtPL",
        "outputId": "f89a1dcc-6168-4b1f-df5f-4816b0aea9cb"
      },
      "execution_count": 13,
      "outputs": [
        {
          "output_type": "execute_result",
          "data": {
            "text/plain": [
              "[Row(sexe='F', count=523), Row(sexe='H', count=560)]"
            ]
          },
          "metadata": {},
          "execution_count": 13
        }
      ]
    },
    {
      "cell_type": "markdown",
      "source": [
        "### table de donnees temporaire et **SQL**\n",
        "\n",
        "- la fonction **createTempView** cree une table imaginaire temporaire\n",
        "sur laquelle on peut faire des requetes SQL classiques via l'objet Spark"
      ],
      "metadata": {
        "id": "LD7nABXBKWH9"
      }
    },
    {
      "cell_type": "code",
      "source": [
        "# on référence le DF comme table SQL\n",
        "# ville.createTempView(\"ville\")\n",
        "\n",
        "ville.createOrReplaceTempView(\"ville\")\n",
        "\n",
        "# requete SQL\n",
        "query_h = \"\"\"\n",
        "  select count(*)\n",
        "  from ville\n",
        "  where sexe = \"H\"\n",
        "\"\"\"\n",
        "\n",
        "# variable saprk pour appliquer la requete SQL\n",
        "spark.sql(query_h).collect()"
      ],
      "metadata": {
        "colab": {
          "base_uri": "https://localhost:8080/"
        },
        "id": "a0191Pd7KPAJ",
        "outputId": "e5dc7dd0-ccfa-493a-f97d-7accb7568451"
      },
      "execution_count": 19,
      "outputs": [
        {
          "output_type": "execute_result",
          "data": {
            "text/plain": [
              "[Row(count(1)=560)]"
            ]
          },
          "metadata": {},
          "execution_count": 19
        }
      ]
    },
    {
      "cell_type": "markdown",
      "source": [
        "### calculer une moyenne\n",
        "\n",
        "- moyenne des saliares par sexe\n",
        "\n",
        "- ville.groupBy([\"sexe\"]).mean(\"salaire\").collect() : ne marche pas\n",
        "car au préalable, il faut  transformer la ou les colonnes utilisees en numerique\n",
        "si on passe par les methodes des DF,  \n",
        "avec SQL cela marche sans transformation (**conversion implicite**)  \n",
        "idem avec pyspark.sql.functions"
      ],
      "metadata": {
        "id": "ov9X4XrmL5L4"
      }
    },
    {
      "cell_type": "code",
      "source": [
        "# methode 1 (SQL avec conversion implicite)\n",
        "\n",
        "query_avg = \"\"\"\n",
        "  select sexe, avg(salaire)\n",
        "  from ville\n",
        "  group by sexe\n",
        "\"\"\"\n",
        "\n",
        "spark.sql(query_avg).collect()"
      ],
      "metadata": {
        "colab": {
          "base_uri": "https://localhost:8080/"
        },
        "id": "mp5RYXSZYtQf",
        "outputId": "bd7f1558-b16e-4d7f-a054-41bea22bfec4"
      },
      "execution_count": 25,
      "outputs": [
        {
          "output_type": "execute_result",
          "data": {
            "text/plain": [
              "[Row(sexe='F', avg(salaire)=23539.718996012853),\n",
              " Row(sexe='H', avg(salaire)=28187.828451177982)]"
            ]
          },
          "metadata": {},
          "execution_count": 25
        }
      ]
    },
    {
      "cell_type": "code",
      "source": [
        "# methode 2 (pyspark.sql avec conversion implicite)\n",
        "\n",
        "#-- on groupe par ville puis aggregation dan slaquelle on appelle la fonction avg sur lacolonne salire\n",
        "#-- puis activation de l'agregation avec l'action collect\n",
        "\n",
        "\n",
        "from pyspark.sql.functions import avg\n",
        "ville.groupBy([\"sexe\"]).agg(avg(\"salaire\")).collect()"
      ],
      "metadata": {
        "colab": {
          "base_uri": "https://localhost:8080/"
        },
        "id": "rzSz-UmZYtUR",
        "outputId": "c03ed9c5-9be1-42af-acb3-a686d54ea4d1"
      },
      "execution_count": 27,
      "outputs": [
        {
          "output_type": "execute_result",
          "data": {
            "text/plain": [
              "[Row(sexe='F', avg(salaire)=23539.718996012853),\n",
              " Row(sexe='H', avg(salaire)=28187.828451177982)]"
            ]
          },
          "metadata": {},
          "execution_count": 27
        }
      ]
    },
    {
      "cell_type": "code",
      "source": [
        "# methode 3 (modification prealable du type de la colonne)\n",
        "\n",
        "#-- withColumn pour rajouter une colonne à un DF\n",
        "#-- cast qui permet de chager le type d'une colonne en un type specifique à Saprk\n",
        "\n",
        "from pyspark.sql.types import DoubleType\n",
        "ville = ville.withColumn(\"salaire_float\", ville.salaire.cast(DoubleType()))"
      ],
      "metadata": {
        "id": "G7cywKjbYtV9"
      },
      "execution_count": 28,
      "outputs": []
    },
    {
      "cell_type": "code",
      "source": [
        "ville.show(2, vertical=True)"
      ],
      "metadata": {
        "id": "JlCVfgtJCmjq",
        "colab": {
          "base_uri": "https://localhost:8080/"
        },
        "outputId": "17be03cc-c436-41cb-a895-ccae7d2062b6"
      },
      "execution_count": 30,
      "outputs": [
        {
          "output_type": "stream",
          "name": "stdout",
          "text": [
            "-RECORD 0----------------------------------\n",
            " id                 | 5251                 \n",
            " vitesse_a_pied     | 0.02                 \n",
            " vitesse_a_velo     | 0.05                 \n",
            " home               | (lon:26.60 lat:28... \n",
            " travail            | (lon:21.08 lat:14... \n",
            " sportif            | False                \n",
            " casseur            | False                \n",
            " statut             | reserviste           \n",
            " salaire            | 29800.610034665042   \n",
            " sexe               | F                    \n",
            " age                | 18                   \n",
            " sportivite         | 0.1                  \n",
            " velo_perf_minimale | 0.4                  \n",
            " salaire_float      | 29800.610034665042   \n",
            "-RECORD 1----------------------------------\n",
            " id                 | 5252                 \n",
            " vitesse_a_pied     | 0.14974625830876215  \n",
            " vitesse_a_velo     | 0.37436564577190534  \n",
            " home               | (lon:0.26 lat:42.61) \n",
            " travail            | (lon:36.35 lat:33... \n",
            " sportif            | False                \n",
            " casseur            | False                \n",
            " statut             | professeur           \n",
            " salaire            | 23595.44383981423    \n",
            " sexe               | F                    \n",
            " age                | 28                   \n",
            " sportivite         | 0.7487312915438107   \n",
            " velo_perf_minimale | 0.4                  \n",
            " salaire_float      | 23595.44383981423    \n",
            "only showing top 2 rows\n",
            "\n"
          ]
        }
      ]
    },
    {
      "cell_type": "code",
      "source": [
        "#-- on calcule la moyenne sur cette nouvelle colonne\n",
        "ville.groupBy([\"sexe\"]).avg(\"salaire_float\").collect()"
      ],
      "metadata": {
        "colab": {
          "base_uri": "https://localhost:8080/"
        },
        "id": "IrQOvnjeQBaG",
        "outputId": "588f43d3-c63d-4bb7-cc1f-f2558e31e838"
      },
      "execution_count": 31,
      "outputs": [
        {
          "output_type": "execute_result",
          "data": {
            "text/plain": [
              "[Row(sexe='F', avg(salaire_float)=23539.718996012853),\n",
              " Row(sexe='H', avg(salaire_float)=28187.828451177982)]"
            ]
          },
          "metadata": {},
          "execution_count": 31
        }
      ]
    },
    {
      "cell_type": "markdown",
      "source": [
        "### regroupemenst categoriels de valeurs\n",
        "\n",
        "- compter le nb de personnes qui ont un salaire entre \n",
        "    - 10 et 20k€\n",
        "    - 20 et 30k€\n",
        "    - 30 et 40k€\n",
        "    - ...  \n",
        "\n",
        "pour cela, il nous faut trouver pour chaque salaire dans quelle tranche il se trouve via par ex. une fonction Python\n"
      ],
      "metadata": {
        "id": "K4o0IcIVSaIG"
      }
    },
    {
      "cell_type": "markdown",
      "source": [
        "**UDF** (user defined functions)  \n",
        "permet d'étendre lespossibilités de Spark.\n",
        "On peut créer et référencer des fonctions que l'on ajoute à Spark.\n",
        "Ces fonctions seront diffusées sur le cluster pour que tous les workers puissent les appeler"
      ],
      "metadata": {
        "id": "MWp25ZPmTPUQ"
      }
    },
    {
      "cell_type": "code",
      "source": [
        "# fonction Python\n",
        "\n",
        "def categorie(salaire):\n",
        "  \"\"\"\n",
        "  calcule la dizaine de milliers dans lequel se trouve le salaire.\n",
        "  Ex:\n",
        "    15000 --> 10000\n",
        "    34000 --> 30000\n",
        "  \"\"\"\n",
        "  nb_de_dizaine_de_milliers = float(salaire)//10000\n",
        "  categorie = 10000 * nb_de_dizaine_de_milliers\n",
        "  return int(categorie)"
      ],
      "metadata": {
        "id": "e5YLusG-QVur"
      },
      "execution_count": 33,
      "outputs": []
    },
    {
      "cell_type": "code",
      "source": [
        "# UDF\n",
        "from pyspark.sql.functions import udf\n",
        "from pyspark.sql.types import * # pour pourvoir typer le resultat\n",
        "\n",
        "my_function = udf(categorie, IntegerType()) # on enregistre la fonction comme fonction UDF\n",
        "\n",
        "# application (lazy) de la fonction UDF sur la colonne salaire\n",
        "# et enregistrement du resultat dans une nouvelle colonne \"salaire_categorie\"\n",
        "ville = ville.withColumn(\"salaire_categorie\", my_function(\"salaire\"))\n",
        "\n",
        "ville.show(1)"
      ],
      "metadata": {
        "colab": {
          "base_uri": "https://localhost:8080/"
        },
        "id": "elsqqYlQSPQx",
        "outputId": "05704775-efde-4abe-8207-3aa0bf97f01c"
      },
      "execution_count": 35,
      "outputs": [
        {
          "output_type": "stream",
          "name": "stdout",
          "text": [
            "+----+--------------+--------------+--------------------+--------------------+-------+-------+----------+------------------+----+---+----------+------------------+------------------+-----------------+\n",
            "|  id|vitesse_a_pied|vitesse_a_velo|                home|             travail|sportif|casseur|    statut|           salaire|sexe|age|sportivite|velo_perf_minimale|     salaire_float|salaire_categorie|\n",
            "+----+--------------+--------------+--------------------+--------------------+-------+-------+----------+------------------+----+---+----------+------------------+------------------+-----------------+\n",
            "|5251|          0.02|          0.05|(lon:26.60 lat:28...|(lon:21.08 lat:14...|  False|  False|reserviste|29800.610034665042|   F| 18|       0.1|               0.4|29800.610034665042|            20000|\n",
            "+----+--------------+--------------+--------------------+--------------------+-------+-------+----------+------------------+----+---+----------+------------------+------------------+-----------------+\n",
            "only showing top 1 row\n",
            "\n"
          ]
        }
      ]
    },
    {
      "cell_type": "code",
      "source": [
        "# pour finalement calculer le nb de perosnnes par tranche de salaires de 10k€\n",
        "\n",
        "pop_par_tranche = ville.groupBy([\"sexe\", \"salaire_categorie\"]).count()"
      ],
      "metadata": {
        "id": "2WpKse-VSPT9"
      },
      "execution_count": 36,
      "outputs": []
    },
    {
      "cell_type": "code",
      "source": [
        "# tri par nb\n",
        "pop_par_tranche.orderBy(\"count\").show()"
      ],
      "metadata": {
        "colab": {
          "base_uri": "https://localhost:8080/"
        },
        "id": "zDLw5RuESPYO",
        "outputId": "7ebc1ae1-0a50-4992-bbac-47c93f9b00d8"
      },
      "execution_count": 40,
      "outputs": [
        {
          "output_type": "stream",
          "name": "stdout",
          "text": [
            "+----+-----------------+-----+\n",
            "|sexe|salaire_categorie|count|\n",
            "+----+-----------------+-----+\n",
            "|   F|            60000|    1|\n",
            "|   H|            80000|    1|\n",
            "|   H|            70000|    1|\n",
            "|   F|            50000|    2|\n",
            "|   H|            60000|    2|\n",
            "|   F|                0|    2|\n",
            "|   H|                0|    4|\n",
            "|   H|            50000|   12|\n",
            "|   F|            40000|   13|\n",
            "|   H|            40000|   52|\n",
            "|   F|            30000|   83|\n",
            "|   H|            10000|  115|\n",
            "|   H|            30000|  139|\n",
            "|   F|            10000|  180|\n",
            "|   H|            20000|  234|\n",
            "|   F|            20000|  242|\n",
            "+----+-----------------+-----+\n",
            "\n"
          ]
        }
      ]
    },
    {
      "cell_type": "code",
      "source": [
        "# tri par sexe et categorie via lamethode sorted de Python\n",
        "# car la fonction collect renvoie une list Python\n",
        "\n",
        "sorted(\n",
        "    ville.groupBy([\"sexe\", \"salaire_categorie\"]).count().collect()\n",
        ")"
      ],
      "metadata": {
        "colab": {
          "base_uri": "https://localhost:8080/"
        },
        "id": "8JwX2jXlSPaW",
        "outputId": "2a3c1286-20c2-4feb-ee38-dd4997100e63"
      },
      "execution_count": 43,
      "outputs": [
        {
          "output_type": "execute_result",
          "data": {
            "text/plain": [
              "[Row(sexe='F', salaire_categorie=0, count=2),\n",
              " Row(sexe='F', salaire_categorie=10000, count=180),\n",
              " Row(sexe='F', salaire_categorie=20000, count=242),\n",
              " Row(sexe='F', salaire_categorie=30000, count=83),\n",
              " Row(sexe='F', salaire_categorie=40000, count=13),\n",
              " Row(sexe='F', salaire_categorie=50000, count=2),\n",
              " Row(sexe='F', salaire_categorie=60000, count=1),\n",
              " Row(sexe='H', salaire_categorie=0, count=4),\n",
              " Row(sexe='H', salaire_categorie=10000, count=115),\n",
              " Row(sexe='H', salaire_categorie=20000, count=234),\n",
              " Row(sexe='H', salaire_categorie=30000, count=139),\n",
              " Row(sexe='H', salaire_categorie=40000, count=52),\n",
              " Row(sexe='H', salaire_categorie=50000, count=12),\n",
              " Row(sexe='H', salaire_categorie=60000, count=2),\n",
              " Row(sexe='H', salaire_categorie=70000, count=1),\n",
              " Row(sexe='H', salaire_categorie=80000, count=1)]"
            ]
          },
          "metadata": {},
          "execution_count": 43
        }
      ]
    },
    {
      "cell_type": "markdown",
      "source": [
        "### compter les elements dans un group by\n",
        "\n",
        "- pour faire des calculs par groupe, la fonction **func** du module **functions** de **pyspark.sql** est utile via\n",
        "  - **collect_list** : qui permet de recuperer la liste des elements de chaque sous-groupe\n",
        "  - **collect_set** : qui renvoie une liste de valeurs uniques\n",
        "  - **size** : qui renvoie le nombre d'elements dans une liste\n",
        "\n",
        "Ex: calcul du nb de personnes par sexe et du nb de tranches de salaire par sexe"
      ],
      "metadata": {
        "id": "Q_roEbaeaHEJ"
      }
    },
    {
      "cell_type": "code",
      "source": [
        "from pyspark.sql import functions as func\n",
        "\n",
        "# nb d'elements par groupe\n",
        "ville.groupBy(\"sexe\").agg(func.size(func.collect_list('sexe'))).show()"
      ],
      "metadata": {
        "colab": {
          "base_uri": "https://localhost:8080/"
        },
        "id": "PYEkrhkfSPcg",
        "outputId": "b97cb046-f0d8-46ce-d272-b3637ec1e148"
      },
      "execution_count": 45,
      "outputs": [
        {
          "output_type": "stream",
          "name": "stdout",
          "text": [
            "+----+------------------------+\n",
            "|sexe|size(collect_list(sexe))|\n",
            "+----+------------------------+\n",
            "|   F|                     523|\n",
            "|   H|                     560|\n",
            "+----+------------------------+\n",
            "\n"
          ]
        }
      ]
    },
    {
      "cell_type": "code",
      "source": [
        "# nb d'elements distincts par groupe\n",
        "ville.groupBy(\"sexe\").agg(func.size(func.collect_set(\"salaire_categorie\"))).show()"
      ],
      "metadata": {
        "colab": {
          "base_uri": "https://localhost:8080/"
        },
        "id": "aQI3qd0bSPe3",
        "outputId": "9385048c-e633-4fa7-b9e0-f0154035f134"
      },
      "execution_count": 47,
      "outputs": [
        {
          "output_type": "stream",
          "name": "stdout",
          "text": [
            "+----+------------------------------------+\n",
            "|sexe|size(collect_set(salaire_categorie))|\n",
            "+----+------------------------------------+\n",
            "|   F|                                   7|\n",
            "|   H|                                   9|\n",
            "+----+------------------------------------+\n",
            "\n"
          ]
        }
      ]
    },
    {
      "cell_type": "markdown",
      "source": [
        "## **Spark DataFrame: creation, transformation, execution**"
      ],
      "metadata": {
        "id": "f-A-liYaeN9s"
      }
    },
    {
      "cell_type": "markdown",
      "source": [
        "### charger de la donnee : **spark.read**"
      ],
      "metadata": {
        "id": "k13pz05egCq7"
      }
    },
    {
      "cell_type": "code",
      "source": [
        "path_csv = \"/content/drive/MyDrive/Spark/projet_simul_velos_libre_service/data/Villes/ville_1.csv\"\n",
        "df = spark.read.load(path_csv, format=\"csv\")"
      ],
      "metadata": {
        "id": "6sU3kafOSPhX"
      },
      "execution_count": 48,
      "outputs": []
    },
    {
      "cell_type": "code",
      "source": [
        "df.dtypes"
      ],
      "metadata": {
        "colab": {
          "base_uri": "https://localhost:8080/"
        },
        "id": "HWzEH_ZlghYn",
        "outputId": "141947ed-c541-44c0-9910-51acfe28086a"
      },
      "execution_count": 49,
      "outputs": [
        {
          "output_type": "execute_result",
          "data": {
            "text/plain": [
              "[('_c0', 'string'),\n",
              " ('_c1', 'string'),\n",
              " ('_c2', 'string'),\n",
              " ('_c3', 'string'),\n",
              " ('_c4', 'string'),\n",
              " ('_c5', 'string'),\n",
              " ('_c6', 'string'),\n",
              " ('_c7', 'string'),\n",
              " ('_c8', 'string'),\n",
              " ('_c9', 'string'),\n",
              " ('_c10', 'string'),\n",
              " ('_c11', 'string'),\n",
              " ('_c12', 'string')]"
            ]
          },
          "metadata": {},
          "execution_count": 49
        }
      ]
    },
    {
      "cell_type": "code",
      "source": [
        "# l'option \"header\" permet de rajouter les noms des colonnes\n",
        "\n",
        "df = spark.read.format(\"csv\").options(header=True).load(path_csv)"
      ],
      "metadata": {
        "id": "ij1cYBQMgha3"
      },
      "execution_count": 51,
      "outputs": []
    },
    {
      "cell_type": "code",
      "source": [
        "df.dtypes"
      ],
      "metadata": {
        "colab": {
          "base_uri": "https://localhost:8080/"
        },
        "id": "iPmh-Yyug1ee",
        "outputId": "dddf4d21-969b-4be3-c73f-552edc959bea"
      },
      "execution_count": 52,
      "outputs": [
        {
          "output_type": "execute_result",
          "data": {
            "text/plain": [
              "[('id', 'string'),\n",
              " ('vitesse_a_pied', 'string'),\n",
              " ('vitesse_a_velo', 'string'),\n",
              " ('home', 'string'),\n",
              " ('travail', 'string'),\n",
              " ('sportif', 'string'),\n",
              " ('casseur', 'string'),\n",
              " ('statut', 'string'),\n",
              " ('salaire', 'string'),\n",
              " ('sexe', 'string'),\n",
              " ('age', 'string'),\n",
              " ('sportivite', 'string'),\n",
              " ('velo_perf_minimale', 'string')]"
            ]
          },
          "metadata": {},
          "execution_count": 52
        }
      ]
    },
    {
      "cell_type": "code",
      "source": [
        "# l'option 'inferSchema' permet de transformer les colonnes en types plus precis\n",
        "# si le fichier d'origine le permet\n",
        "\n",
        "df = spark.read.format(\"csv\").options(header=True, inferSchema=True).load(path_csv)"
      ],
      "metadata": {
        "id": "lhuT4Nceg1hL"
      },
      "execution_count": 53,
      "outputs": []
    },
    {
      "cell_type": "code",
      "source": [
        "df.dtypes"
      ],
      "metadata": {
        "colab": {
          "base_uri": "https://localhost:8080/"
        },
        "id": "AdFcFFQ_g1km",
        "outputId": "6226c7a6-535f-43d7-e625-df5554a1648b"
      },
      "execution_count": 54,
      "outputs": [
        {
          "output_type": "execute_result",
          "data": {
            "text/plain": [
              "[('id', 'int'),\n",
              " ('vitesse_a_pied', 'double'),\n",
              " ('vitesse_a_velo', 'double'),\n",
              " ('home', 'string'),\n",
              " ('travail', 'string'),\n",
              " ('sportif', 'boolean'),\n",
              " ('casseur', 'boolean'),\n",
              " ('statut', 'string'),\n",
              " ('salaire', 'double'),\n",
              " ('sexe', 'string'),\n",
              " ('age', 'int'),\n",
              " ('sportivite', 'double'),\n",
              " ('velo_perf_minimale', 'double')]"
            ]
          },
          "metadata": {},
          "execution_count": 54
        }
      ]
    },
    {
      "cell_type": "markdown",
      "source": [
        "Avec **Spark**\n",
        "- les Df sont potentiellement **distribués** sur le cluster d'ordinateur de maniere transparente pour le programmeur\n",
        "- on peut utiliser le meme code pour un calcul sur un seul ordinateur que pour 1000 ordinateurs\n",
        "- toute la logique de egstion du reseau, de distribution de calculs, de recuperation sur panneest geree par Spark de maniere autonome\n",
        "- l'integraion de Spark avec Python permet en plus de faire des tests et de transformer les resulatst Spark en objets Python de maniete tout à fait transparente"
      ],
      "metadata": {
        "id": "SB_YIHrliAGh"
      }
    },
    {
      "cell_type": "code",
      "source": [
        "path_csv_cyclistes = \"/content/drive/MyDrive/Spark/projet_simul_velos_libre_service/data/Cyclistes/\"\n",
        "df_cyclistes = spark.read.load(path_csv_cyclistes, format=\"csv\", header=True, inferSchema=\"True\")"
      ],
      "metadata": {
        "id": "jQ32u_dkghdh"
      },
      "execution_count": 67,
      "outputs": []
    },
    {
      "cell_type": "code",
      "source": [
        "df_cyclistes.printSchema()"
      ],
      "metadata": {
        "colab": {
          "base_uri": "https://localhost:8080/"
        },
        "id": "gHsAESHfh8W6",
        "outputId": "029266d6-0394-44d8-9066-f07138857a8e"
      },
      "execution_count": 68,
      "outputs": [
        {
          "output_type": "stream",
          "name": "stdout",
          "text": [
            "root\n",
            " |-- id: integer (nullable = true)\n",
            " |-- timestamp: timestamp (nullable = true)\n",
            " |-- sur_velo: boolean (nullable = true)\n",
            " |-- velo: string (nullable = true)\n",
            " |-- vitesse: double (nullable = true)\n",
            " |-- position: string (nullable = true)\n",
            " |-- destination_finale: string (nullable = true)\n",
            "\n"
          ]
        }
      ]
    },
    {
      "cell_type": "code",
      "source": [
        "df_cyclistes.count()"
      ],
      "metadata": {
        "colab": {
          "base_uri": "https://localhost:8080/"
        },
        "id": "Xc7CBN7tkrkV",
        "outputId": "74564dd7-b5e9-4eee-f628-d35b188a6103"
      },
      "execution_count": 69,
      "outputs": [
        {
          "output_type": "execute_result",
          "data": {
            "text/plain": [
              "4868396"
            ]
          },
          "metadata": {},
          "execution_count": 69
        }
      ]
    },
    {
      "cell_type": "markdown",
      "source": [
        "### transformer la donnee: **les transformations**"
      ],
      "metadata": {
        "id": "5I8nvzJDlMcb"
      }
    },
    {
      "cell_type": "code",
      "source": [
        "df_cyclistes.agg({\"vitesse\":\"mean\"}).collect()"
      ],
      "metadata": {
        "colab": {
          "base_uri": "https://localhost:8080/"
        },
        "id": "TRAb5laZkrql",
        "outputId": "612a93d7-bd07-4f56-c4b1-0a3e6fbb98f6"
      },
      "execution_count": 70,
      "outputs": [
        {
          "output_type": "execute_result",
          "data": {
            "text/plain": [
              "[Row(avg(vitesse)=0.5635749865179128)]"
            ]
          },
          "metadata": {},
          "execution_count": 70
        }
      ]
    },
    {
      "cell_type": "code",
      "source": [],
      "metadata": {
        "id": "ysXKpapQh8cq"
      },
      "execution_count": null,
      "outputs": []
    },
    {
      "cell_type": "code",
      "source": [
        "path_csv_villes = \"/content/drive/MyDrive/Spark/projet_simul_velos_libre_service/data/Villes/\"\n",
        "df_villes = spark.read.load(path_csv_villes, format=\"csv\", header=True, inferSchema=\"True\")"
      ],
      "metadata": {
        "id": "5BbwaU6Xh8e6"
      },
      "execution_count": 71,
      "outputs": []
    },
    {
      "cell_type": "code",
      "source": [
        "df_villes.printSchema()"
      ],
      "metadata": {
        "colab": {
          "base_uri": "https://localhost:8080/"
        },
        "id": "EjcoRkS-h8hd",
        "outputId": "11084388-0117-4030-b768-528a535591db"
      },
      "execution_count": 72,
      "outputs": [
        {
          "output_type": "stream",
          "name": "stdout",
          "text": [
            "root\n",
            " |-- id: integer (nullable = true)\n",
            " |-- vitesse_a_pied: double (nullable = true)\n",
            " |-- vitesse_a_velo: double (nullable = true)\n",
            " |-- home: string (nullable = true)\n",
            " |-- travail: string (nullable = true)\n",
            " |-- sportif: boolean (nullable = true)\n",
            " |-- casseur: boolean (nullable = true)\n",
            " |-- statut: string (nullable = true)\n",
            " |-- salaire: double (nullable = true)\n",
            " |-- sexe: string (nullable = true)\n",
            " |-- age: integer (nullable = true)\n",
            " |-- sportivite: double (nullable = true)\n",
            " |-- velo_perf_minimale: double (nullable = true)\n",
            "\n"
          ]
        }
      ]
    },
    {
      "cell_type": "code",
      "source": [
        "df_villes.count()"
      ],
      "metadata": {
        "colab": {
          "base_uri": "https://localhost:8080/"
        },
        "id": "2ANhP7Xvl-mQ",
        "outputId": "76273a06-bb38-4087-d906-78063df67e00"
      },
      "execution_count": 73,
      "outputs": [
        {
          "output_type": "execute_result",
          "data": {
            "text/plain": [
              "1083"
            ]
          },
          "metadata": {},
          "execution_count": 73
        }
      ]
    },
    {
      "cell_type": "code",
      "source": [
        "df_villes.groupBy(\"sexe\").agg({\"sportivite\":\"mean\"}).collect()"
      ],
      "metadata": {
        "colab": {
          "base_uri": "https://localhost:8080/"
        },
        "id": "7IW3moE9mCtK",
        "outputId": "02044ade-e941-463b-ed64-8126e3c4f908"
      },
      "execution_count": 76,
      "outputs": [
        {
          "output_type": "execute_result",
          "data": {
            "text/plain": [
              "[Row(sexe='F', avg(sportivite)=2.201847229112897),\n",
              " Row(sexe='H', avg(sportivite)=2.161359149481709)]"
            ]
          },
          "metadata": {},
          "execution_count": 76
        }
      ]
    },
    {
      "cell_type": "code",
      "source": [
        "df_villes.groupBy(\"sexe\").agg({\"sportivite\":\"mean\"}).show()"
      ],
      "metadata": {
        "colab": {
          "base_uri": "https://localhost:8080/"
        },
        "id": "atTdEeLAmXdc",
        "outputId": "82750b13-f88e-4d61-a799-cfd9736ba166"
      },
      "execution_count": 77,
      "outputs": [
        {
          "output_type": "stream",
          "name": "stdout",
          "text": [
            "+----+-----------------+\n",
            "|sexe|  avg(sportivite)|\n",
            "+----+-----------------+\n",
            "|   F|2.201847229112897|\n",
            "|   H|2.161359149481709|\n",
            "+----+-----------------+\n",
            "\n"
          ]
        }
      ]
    },
    {
      "cell_type": "code",
      "source": [
        "df_villes.groupBy(\"sexe\").agg({\"sportivite\":\"mean\", \"age\":\"max\"}).collect()"
      ],
      "metadata": {
        "colab": {
          "base_uri": "https://localhost:8080/"
        },
        "id": "rcGVnYwwmOZZ",
        "outputId": "5a73eb99-8faa-4df9-f479-734b2a78f9f2"
      },
      "execution_count": 78,
      "outputs": [
        {
          "output_type": "execute_result",
          "data": {
            "text/plain": [
              "[Row(sexe='F', avg(sportivite)=2.201847229112897, max(age)=84),\n",
              " Row(sexe='H', avg(sportivite)=2.161359149481709, max(age)=84)]"
            ]
          },
          "metadata": {},
          "execution_count": 78
        }
      ]
    },
    {
      "cell_type": "code",
      "source": [
        "df_villes.groupBy(\"sexe\").agg({\"sportivite\":\"mean\", \"age\":\"max\"}).show()"
      ],
      "metadata": {
        "colab": {
          "base_uri": "https://localhost:8080/"
        },
        "id": "AT9ipU8LmgUE",
        "outputId": "927ebafd-9b0a-4090-907a-e589ac10309e"
      },
      "execution_count": 79,
      "outputs": [
        {
          "output_type": "stream",
          "name": "stdout",
          "text": [
            "+----+-----------------+--------+\n",
            "|sexe|  avg(sportivite)|max(age)|\n",
            "+----+-----------------+--------+\n",
            "|   F|2.201847229112897|      84|\n",
            "|   H|2.161359149481709|      84|\n",
            "+----+-----------------+--------+\n",
            "\n"
          ]
        }
      ]
    },
    {
      "cell_type": "code",
      "source": [],
      "metadata": {
        "id": "DiX7plJ7mOcF"
      },
      "execution_count": 74,
      "outputs": []
    },
    {
      "cell_type": "code",
      "source": [],
      "metadata": {
        "id": "EswNdcX_mOet"
      },
      "execution_count": 74,
      "outputs": []
    },
    {
      "cell_type": "code",
      "source": [],
      "metadata": {
        "id": "vbPgmizAmOhx"
      },
      "execution_count": null,
      "outputs": []
    }
  ]
}